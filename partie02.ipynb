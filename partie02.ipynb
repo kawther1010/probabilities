{
 "cells": [
  {
   "cell_type": "code",
   "execution_count": 58,
   "metadata": {},
   "outputs": [],
   "source": [
    "import random\n",
    "import numpy as np"
   ]
  },
  {
   "cell_type": "code",
   "execution_count": 59,
   "metadata": {},
   "outputs": [],
   "source": [
    "def choix_machine():\n",
    "    return np.random.choice(['A', 'B'], p=[0.5, 0.5])\n"
   ]
  },
  {
   "cell_type": "code",
   "execution_count": 60,
   "metadata": {},
   "outputs": [],
   "source": [
    "#1\n",
    "def production_ecran(machine):\n",
    "    if machine == 'A':\n",
    "        return np.random.choice(['HQ', 'BQ'], p=[0.7, 0.3])\n",
    "    elif machine == 'B':\n",
    "        return np.random.choice(['HQ', 'BQ'], p=[0.6, 0.4])"
   ]
  },
  {
   "cell_type": "code",
   "execution_count": 61,
   "metadata": {},
   "outputs": [
    {
     "name": "stdout",
     "output_type": "stream",
     "text": [
      "P(A)= 0.5055\n"
     ]
    }
   ],
   "source": [
    "#2\n",
    "choix_machines= [choix_machine() for _ in range(10000)]\n",
    "probability_A= choix_machines.count('A') / 10000\n",
    "print(\"P(A)=\", probability_A)"
   ]
  },
  {
   "cell_type": "code",
   "execution_count": 62,
   "metadata": {},
   "outputs": [
    {
     "data": {
      "text/plain": [
       "0.5971"
      ]
     },
     "execution_count": 62,
     "metadata": {},
     "output_type": "execute_result"
    }
   ],
   "source": [
    "#3\n",
    "ecran_B= [production_ecran('B') for _ in range(10000)]\n",
    "probability_HQ_given_B= ecran_B.count('HQ') / len(ecran_B)\n",
    "probability_HQ_given_B"
   ]
  },
  {
   "cell_type": "code",
   "execution_count": 63,
   "metadata": {},
   "outputs": [
    {
     "data": {
      "text/plain": [
       "0.6979"
      ]
     },
     "execution_count": 63,
     "metadata": {},
     "output_type": "execute_result"
    }
   ],
   "source": [
    "#4\n",
    "choix_machines= [(machine, production_ecran(machine)) for machine in choix_machines]\n",
    "probability_A= choix_machines.count('A') / 10000\n",
    "probability_B= choix_machines.count('B') / 10000\n",
    "probability_A_ou_BQ= (sum(1 for choix in choix_machines if (choix[0] == 'A') or (choix[1] == 'BQ')) / 10000) - probability_A * probability_B\n",
    "probability_A_ou_BQ"
   ]
  }
 ],
 "metadata": {
  "kernelspec": {
   "display_name": "Python 3",
   "language": "python",
   "name": "python3"
  },
  "language_info": {
   "codemirror_mode": {
    "name": "ipython",
    "version": 3
   },
   "file_extension": ".py",
   "mimetype": "text/x-python",
   "name": "python",
   "nbconvert_exporter": "python",
   "pygments_lexer": "ipython3",
   "version": "3.11.6"
  }
 },
 "nbformat": 4,
 "nbformat_minor": 2
}
