{
 "cells": [
  {
   "cell_type": "code",
   "execution_count": 1,
   "metadata": {},
   "outputs": [
    {
     "name": "stdout",
     "output_type": "stream",
     "text": [
      "vert vert\n"
     ]
    }
   ],
   "source": [
    "import random\n",
    "#1\n",
    "def tirage_urne():\n",
    "    urne = ['rouge'] * 4 + ['vert'] * 3\n",
    "    boule_1 = random.choice(urne)\n",
    "    urne.remove(boule_1)\n",
    "    boule_2 = random.choice(urne)\n",
    "    return boule_1, boule_2\n",
    "\n",
    "boule1, boule2= tirage_urne()\n",
    "print(boule1, boule2)"
   ]
  },
  {
   "cell_type": "code",
   "execution_count": 2,
   "metadata": {},
   "outputs": [
    {
     "name": "stdout",
     "output_type": "stream",
     "text": [
      "Probabilité P(A) que la première boule tirée soit rouge: 0.5728\n"
     ]
    }
   ],
   "source": [
    "#2\n",
    "def proba_premiere_boule_rouge():\n",
    "    nb_tirages = 10000\n",
    "    nb_rouges = 0\n",
    "    for _ in range(nb_tirages):\n",
    "        boule_1, _ = tirage_urne()\n",
    "        if boule_1 == 'rouge':\n",
    "            nb_rouges += 1\n",
    "    return nb_rouges / nb_tirages\n",
    "\n",
    "print(\"Probabilité P(A) que la première boule tirée soit rouge:\", proba_premiere_boule_rouge())"
   ]
  },
  {
   "cell_type": "code",
   "execution_count": 3,
   "metadata": {},
   "outputs": [
    {
     "name": "stdout",
     "output_type": "stream",
     "text": [
      "Probabilité P(B | A) que la deuxième boule tirée soit verte, sachant que la première boule était rouge: 0.5057127790472842\n"
     ]
    }
   ],
   "source": [
    "#3\n",
    "def proba_deuxieme_boule_verte_sachant_premiere_rouge():\n",
    "    nb_tirages = 10000\n",
    "    nb_verte_sachant_rouge = 0\n",
    "    nb_rouges = 0\n",
    "    for _ in range(nb_tirages):\n",
    "        boule_1, boule_2 = tirage_urne()\n",
    "        if boule_1 == 'rouge':\n",
    "            nb_rouges += 1\n",
    "            if boule_2 == 'vert':\n",
    "                nb_verte_sachant_rouge += 1\n",
    "    return nb_verte_sachant_rouge / nb_rouges\n",
    "\n",
    "print(\"Probabilité P(B | A) que la deuxième boule tirée soit verte, sachant que la première boule était rouge:\", proba_deuxieme_boule_verte_sachant_premiere_rouge())\n"
   ]
  },
  {
   "cell_type": "code",
   "execution_count": 4,
   "metadata": {},
   "outputs": [
    {
     "name": "stdout",
     "output_type": "stream",
     "text": [
      "Probabilité conditionnelle P(A | B) que la première boule soit rouge, sachant que la deuxième boule est verte: 0.3248950069995334\n"
     ]
    }
   ],
   "source": [
    "#4\n",
    "def proba_premiere_boule_rouge_sachant_deuxieme_verte():\n",
    "    nb_tirages = 10000\n",
    "    nb_rouge_sachant_verte = 0\n",
    "    for _ in range(nb_tirages):\n",
    "        boule_1, boule_2 = tirage_urne()\n",
    "        if boule_2 == 'vert':\n",
    "            nb_rouge_sachant_verte += 1 if boule_1 == 'rouge' else 0\n",
    "    return nb_rouge_sachant_verte / (nb_tirages - (nb_tirages // 7))  # On exclut les cas où les deux boules sont vertes\n",
    "\n",
    "print(\"Probabilité conditionnelle P(A | B) que la première boule soit rouge, sachant que la deuxième boule est verte:\", proba_premiere_boule_rouge_sachant_deuxieme_verte())\n"
   ]
  },
  {
   "cell_type": "code",
   "execution_count": 5,
   "metadata": {},
   "outputs": [
    {
     "name": "stdout",
     "output_type": "stream",
     "text": [
      "Probabilité que la première boule tirée soit rouge ou que la deuxième boule tirée soit verte, mais pas les deux en même temps: 0.4353\n"
     ]
    }
   ],
   "source": [
    "#5\n",
    "def proba_premiere_rouge_ou_deuxieme_verte_pas_les_deux():\n",
    "    nb_tirages = 10000\n",
    "    nb_rouge_ou_verte_pas_les_deux = 0\n",
    "    for _ in range(nb_tirages):\n",
    "        boule_1, boule_2 = tirage_urne()\n",
    "        if (boule_1 == 'rouge' and boule_2 != 'vert') or (boule_1 != 'rouge' and boule_2 == 'vert'):\n",
    "            nb_rouge_ou_verte_pas_les_deux += 1\n",
    "    return nb_rouge_ou_verte_pas_les_deux / nb_tirages\n",
    "\n",
    "print(\"Probabilité que la première boule tirée soit rouge ou que la deuxième boule tirée soit verte, mais pas les deux en même temps:\", proba_premiere_rouge_ou_deuxieme_verte_pas_les_deux())\n"
   ]
  }
 ],
 "metadata": {
  "kernelspec": {
   "display_name": "Python 3",
   "language": "python",
   "name": "python3"
  },
  "language_info": {
   "codemirror_mode": {
    "name": "ipython",
    "version": 3
   },
   "file_extension": ".py",
   "mimetype": "text/x-python",
   "name": "python",
   "nbconvert_exporter": "python",
   "pygments_lexer": "ipython3",
   "version": "3.11.6"
  }
 },
 "nbformat": 4,
 "nbformat_minor": 2
}
